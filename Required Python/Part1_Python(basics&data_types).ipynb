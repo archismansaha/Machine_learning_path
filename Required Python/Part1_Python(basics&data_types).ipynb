{
 "cells": [
  {
   "cell_type": "markdown",
   "metadata": {},
   "source": [
    "## Variable assigning\n",
    "\n",
    "variable_name=values"
   ]
  },
  {
   "cell_type": "code",
   "execution_count": 28,
   "metadata": {},
   "outputs": [
    {
     "data": {
      "text/plain": [
       "int"
      ]
     },
     "execution_count": 28,
     "metadata": {},
     "output_type": "execute_result"
    }
   ],
   "source": [
    "a=10\n",
    "type(a)## type() func will give you the data type--here int"
   ]
  },
  {
   "cell_type": "markdown",
   "metadata": {},
   "source": [
    "## Many ways to print"
   ]
  },
  {
   "cell_type": "code",
   "execution_count": 29,
   "metadata": {},
   "outputs": [
    {
     "name": "stdout",
     "output_type": "stream",
     "text": [
      "Welcome to the Notebook.\n"
     ]
    }
   ],
   "source": [
    "print(\"Welcome to the Notebook.\")## print uses for showing output \n"
   ]
  },
  {
   "cell_type": "code",
   "execution_count": 32,
   "metadata": {},
   "outputs": [],
   "source": [
    "first_name='Archisman'\n",
    "last_name='Saha'"
   ]
  },
  {
   "cell_type": "code",
   "execution_count": 33,
   "metadata": {},
   "outputs": [
    {
     "name": "stdout",
     "output_type": "stream",
     "text": [
      "My first name is Archisman and last name is Saha\n"
     ]
    }
   ],
   "source": [
    "print(\"My first name is {} and last name is {}\".format(first_name,last_name))"
   ]
  },
  {
   "cell_type": "code",
   "execution_count": 34,
   "metadata": {},
   "outputs": [
    {
     "name": "stdout",
     "output_type": "stream",
     "text": [
      "My First name is Archisman and last name is Saha\n"
     ]
    }
   ],
   "source": [
    "print(\"My First name is {first} and last name is {last}\".format(last=last_name,first=first_name))"
   ]
  },
  {
   "cell_type": "code",
   "execution_count": 35,
   "metadata": {},
   "outputs": [],
   "source": [
    "score=0\n",
    "height=1.8\n",
    "iswinning=True\n"
   ]
  },
  {
   "cell_type": "code",
   "execution_count": 38,
   "metadata": {},
   "outputs": [
    {
     "name": "stdout",
     "output_type": "stream",
     "text": [
      "Your score is : 0,height: 1.8,winning: True\n"
     ]
    }
   ],
   "source": [
    "#f-string   (add f before \"\" and under {variable name})\n",
    "print(f\"Your score is : {score},height: {height},winning: {iswinning}\") ## Takes all data types in a string reduces manual labour"
   ]
  },
  {
   "cell_type": "markdown",
   "metadata": {},
   "source": [
    "## Taking Input"
   ]
  },
  {
   "cell_type": "code",
   "execution_count": 2,
   "metadata": {},
   "outputs": [
    {
     "name": "stdout",
     "output_type": "stream",
     "text": [
      "Enter the city you grew up\n",
      "kolkata\n",
      "City name : kolkata\n"
     ]
    }
   ],
   "source": [
    "Name=input(\"Enter the city you grew up\\n\") ##  input function is for taking input and inside the function under \" \" you can write the message you want to show up at the time of taking input\n",
    "\n",
    "print(f\"City name : {Name}\") \n"
   ]
  },
  {
   "cell_type": "code",
   "execution_count": 3,
   "metadata": {},
   "outputs": [
    {
     "name": "stdout",
     "output_type": "stream",
     "text": [
      "7\n"
     ]
    }
   ],
   "source": [
    "length=len(Name)   ##len(variable/string) ---- len() function uses to return string length \n",
    "print(length)"
   ]
  },
  {
   "cell_type": "markdown",
   "metadata": {},
   "source": [
    "# Arithmetic Operations"
   ]
  },
  {
   "cell_type": "code",
   "execution_count": 2,
   "metadata": {},
   "outputs": [
    {
     "name": "stdout",
     "output_type": "stream",
     "text": [
      "1\n",
      "1\n",
      "8\n",
      "6\n",
      "2\n",
      "25\n"
     ]
    }
   ],
   "source": [
    "print(4/2) ## devison (gives float number)\n",
    "print(3//2)## gives floor number like 3.6 to 3\n",
    "print(5%2) ## modulo operator(%) is gives you remainder \n",
    "print(4*2) ## multiplication\n",
    "print(4+2) ## addition\n",
    "print(4-2) ## substraction\n",
    "print(5**2) ##it wil count the power (base ** exponent)\n",
    "##priority\n",
    "# 1st ()\n",
    "# 2nd **\n",
    "# 3rd / *  same priority if bot will present excicution will be from left to right\n",
    "# 4th + -  same priority if bot will present excicution will be from left to right\n"
   ]
  },
  {
   "cell_type": "markdown",
   "metadata": {},
   "source": [
    "# Datatypes\n",
    "1. Numeric\n",
    "    - integers\n",
    "    - float\n",
    "    - complex\n",
    "2. Sequence\n",
    "    - string\n",
    "    - list\n",
    "    - tuple\n",
    "3. Boolean\n",
    "4. Set\n",
    "5. Dictioanry"
   ]
  },
  {
   "cell_type": "code",
   "execution_count": 4,
   "metadata": {},
   "outputs": [
    {
     "name": "stdout",
     "output_type": "stream",
     "text": [
      "<class 'int'>\n"
     ]
    }
   ],
   "source": [
    "# Numeric \n",
    "\n",
    "#intiger\n",
    "x=10    ## intiger any 1 , 2 .........\n",
    "print(type(x))\n",
    "\n"
   ]
  },
  {
   "cell_type": "code",
   "execution_count": 5,
   "metadata": {},
   "outputs": [
    {
     "name": "stdout",
     "output_type": "stream",
     "text": [
      "<class 'float'>\n"
     ]
    }
   ],
   "source": [
    "#float\n",
    "y=1.8098  ## this float like 1.23442 , 2131.1212 ,...\n",
    "print(type(y))      \n",
    "\n"
   ]
  },
  {
   "cell_type": "code",
   "execution_count": 6,
   "metadata": {},
   "outputs": [
    {
     "name": "stdout",
     "output_type": "stream",
     "text": [
      "<class 'complex'>\n"
     ]
    }
   ],
   "source": [
    "#complex numbers\n",
    "z = 6 + 4j ## (real part) + (imaginary part)j \n",
    "print(type(z)) \n"
   ]
  },
  {
   "cell_type": "markdown",
   "metadata": {},
   "source": [
    "##  Sequence"
   ]
  },
  {
   "cell_type": "markdown",
   "metadata": {},
   "source": [
    "### Strings\n",
    "In Python, Strings are arrays of bytes representing Unicode characters. A string is a collection of one or more characters put in a single quote, double-quote or triple quote. In python there is no character data type, a character is a string of length one. It is represented by str class. \n",
    " "
   ]
  },
  {
   "cell_type": "code",
   "execution_count": 24,
   "metadata": {},
   "outputs": [
    {
     "name": "stdout",
     "output_type": "stream",
     "text": [
      "<class 'str'>\n"
     ]
    }
   ],
   "source": [
    "string=\"hello\"  ##string type\n",
    "print(type(string))\n"
   ]
  },
  {
   "cell_type": "code",
   "execution_count": 9,
   "metadata": {},
   "outputs": [
    {
     "name": "stdout",
     "output_type": "stream",
     "text": [
      "My Name is: Archisman Saha\n"
     ]
    }
   ],
   "source": [
    "first_Name='Archisman' \n",
    "Last_Name= 'Saha' \n",
    "print(\"My Name is: \"+first_Name+\" \"+Last_Name) ## here '+' is used for string concatination (joining string) :)"
   ]
  },
  {
   "cell_type": "code",
   "execution_count": 25,
   "metadata": {},
   "outputs": [
    {
     "name": "stdout",
     "output_type": "stream",
     "text": [
      "h\n"
     ]
    }
   ],
   "source": [
    "print(string[0])    ## variable_name[indices] it will return the character of indices position\n",
    "## positions always starts from '0'(zero)"
   ]
  },
  {
   "cell_type": "code",
   "execution_count": 64,
   "metadata": {},
   "outputs": [
    {
     "name": "stdout",
     "output_type": "stream",
     "text": [
      "Enter names seperated by comma: asas,asdd,fsfsf,aaaa\n",
      "asas,asdd,fsfsf,aaaa\n"
     ]
    }
   ],
   "source": [
    "names_input=input(\"Enter names seperated by comma: \")\n",
    "print(names_input)\n"
   ]
  },
  {
   "cell_type": "code",
   "execution_count": 66,
   "metadata": {},
   "outputs": [
    {
     "name": "stdout",
     "output_type": "stream",
     "text": [
      "['asas', 'asdd', 'fsfsf', 'aaaa']\n"
     ]
    }
   ],
   "source": [
    "names=names_input.split(\",\") # .split() make it list\n",
    "print(names)"
   ]
  },
  {
   "cell_type": "markdown",
   "metadata": {},
   "source": [
    "### Lists\n",
    "\n",
    "A list is a data structure in Python that is a mutable, or changeable, ordered sequence of elements. Each element or value that is inside of a list is called an item. lists are defined by having values between square brackets [ ]indices starts from 0"
   ]
  },
  {
   "cell_type": "code",
   "execution_count": 7,
   "metadata": {},
   "outputs": [
    {
     "name": "stdout",
     "output_type": "stream",
     "text": [
      "apple\n",
      "6876\n"
     ]
    }
   ],
   "source": [
    "fruits=['apple',True,123]  ## lists \n",
    "print(fruits[0]) \n",
    "fruits[2]=6876\n",
    "print(fruits[2])"
   ]
  },
  {
   "cell_type": "code",
   "execution_count": 8,
   "metadata": {},
   "outputs": [
    {
     "name": "stdout",
     "output_type": "stream",
     "text": [
      "6876\n"
     ]
    }
   ],
   "source": [
    "print(fruits[-1]) ## counts from last (-)"
   ]
  },
  {
   "cell_type": "code",
   "execution_count": 9,
   "metadata": {},
   "outputs": [
    {
     "name": "stdout",
     "output_type": "stream",
     "text": [
      "231\n"
     ]
    }
   ],
   "source": [
    "fruits.append(231) ##  .append add value to last\n",
    "print(fruits[3])\n"
   ]
  },
  {
   "cell_type": "code",
   "execution_count": 10,
   "metadata": {},
   "outputs": [
    {
     "name": "stdout",
     "output_type": "stream",
     "text": [
      "hello\n"
     ]
    }
   ],
   "source": [
    "fruits.insert(2,\"hello\") # .insert(position,value) insert value at position \n",
    "print(fruits[2])"
   ]
  },
  {
   "cell_type": "code",
   "execution_count": 11,
   "metadata": {},
   "outputs": [
    {
     "name": "stdout",
     "output_type": "stream",
     "text": [
      "['apple', True, 6876, 231]\n"
     ]
    }
   ],
   "source": [
    "fruits.pop(2) ## .pop(position) remove the elemnt of the position\n",
    "print(fruits)"
   ]
  },
  {
   "cell_type": "code",
   "execution_count": 14,
   "metadata": {},
   "outputs": [
    {
     "name": "stdout",
     "output_type": "stream",
     "text": [
      "[12, 2, 32, 231, 23, 111, 111, 2, 3, 111, 43, 32]\n"
     ]
    }
   ],
   "source": [
    "check=[12,231,2,32,231,23,111,111,2,3,111,43,32]\n",
    "check.remove(231) ## .remove(value) remove the first itemof the list which is equalto value\n",
    "print(check)"
   ]
  },
  {
   "cell_type": "code",
   "execution_count": 15,
   "metadata": {},
   "outputs": [
    {
     "name": "stdout",
     "output_type": "stream",
     "text": [
      "['apple', True, 6876, 'dwdwd', 'dwdw']\n"
     ]
    }
   ],
   "source": [
    "fruits.extend([\"dwdwd\",\"dwdw\"]) ## it add  the other values \n",
    "print(fruits)"
   ]
  },
  {
   "cell_type": "code",
   "execution_count": 16,
   "metadata": {},
   "outputs": [
    {
     "name": "stdout",
     "output_type": "stream",
     "text": [
      "3\n"
     ]
    }
   ],
   "source": [
    "print(check.count(111)) ## .count(value) count number of occurance of the value"
   ]
  },
  {
   "cell_type": "code",
   "execution_count": 17,
   "metadata": {},
   "outputs": [
    {
     "name": "stdout",
     "output_type": "stream",
     "text": [
      "[12, 909, 3131, 23231, 24323, 312313]\n"
     ]
    }
   ],
   "source": [
    "lists_num=[12,24323,909,23231,312313,3131]\n",
    "lists_num.sort(key=None,reverse=False) ## sorts the array ascending\n",
    "print(lists_num)"
   ]
  },
  {
   "cell_type": "code",
   "execution_count": 18,
   "metadata": {},
   "outputs": [
    {
     "name": "stdout",
     "output_type": "stream",
     "text": [
      "[312313, 24323, 23231, 3131, 909, 12]\n"
     ]
    }
   ],
   "source": [
    "lists_num.sort(key=None,reverse=True) ##descending ordr\n",
    "print(lists_num)"
   ]
  },
  {
   "cell_type": "code",
   "execution_count": 19,
   "metadata": {},
   "outputs": [
    {
     "name": "stdout",
     "output_type": "stream",
     "text": [
      "[]\n"
     ]
    }
   ],
   "source": [
    "lists_num.clear() ## .clear() clear items of the list\n",
    "print(lists_num)"
   ]
  },
  {
   "cell_type": "code",
   "execution_count": 20,
   "metadata": {},
   "outputs": [
    {
     "data": {
      "text/plain": [
       "13"
      ]
     },
     "execution_count": 20,
     "metadata": {},
     "output_type": "execute_result"
    }
   ],
   "source": [
    "check=[12,231,2,32,231,23,111,111,2,3,111,43,32]\n",
    "len(check) # len() calculates total length of List"
   ]
  },
  {
   "cell_type": "code",
   "execution_count": 22,
   "metadata": {},
   "outputs": [
    {
     "data": {
      "text/plain": [
       "6"
      ]
     },
     "execution_count": 22,
     "metadata": {},
     "output_type": "execute_result"
    }
   ],
   "source": [
    "check.index(111,1,12) # index() returns the index of first occurrence. Start and End index are not necessary parameters\n"
   ]
  },
  {
   "cell_type": "code",
   "execution_count": 23,
   "metadata": {},
   "outputs": [
    {
     "data": {
      "text/plain": [
       "231"
      ]
     },
     "execution_count": 23,
     "metadata": {},
     "output_type": "execute_result"
    }
   ],
   "source": [
    "##Min and Max\n",
    "min(check)\n",
    "max(check)"
   ]
  },
  {
   "cell_type": "markdown",
   "metadata": {},
   "source": [
    "### Tuples\n",
    "Just like list, tuple is also an ordered collection of Python objects. The only difference between type and list is that tuples are immutable i.e. tuples cannot be modified after it is created. It is represented by tuple class. "
   ]
  },
  {
   "cell_type": "code",
   "execution_count": 11,
   "metadata": {},
   "outputs": [
    {
     "name": "stdout",
     "output_type": "stream",
     "text": [
      "()\n"
     ]
    }
   ],
   "source": [
    "## create an empty Tuples\n",
    "\n",
    "my_tuple=tuple()\n",
    "print(my_tuple)"
   ]
  },
  {
   "cell_type": "code",
   "execution_count": 12,
   "metadata": {},
   "outputs": [
    {
     "name": "stdout",
     "output_type": "stream",
     "text": [
      "\n",
      "Tuple with the use of String: \n",
      "('Archisman', 'Saha')\n"
     ]
    }
   ],
   "source": [
    "\n",
    "# Creating a Tuple with the use of Strings\n",
    "Tuple1 = ('Archisman', 'Saha')\n",
    "print(\"\\nTuple with the use of String: \")\n",
    "print(Tuple1)"
   ]
  },
  {
   "cell_type": "code",
   "execution_count": 13,
   "metadata": {},
   "outputs": [
    {
     "name": "stdout",
     "output_type": "stream",
     "text": [
      "\n",
      "Tuple using List: \n",
      "(1, 2, 4, 5, 6)\n"
     ]
    }
   ],
   "source": [
    "# Creating a Tuple with the use of list\n",
    "list1 = [1, 2, 4, 5, 6]\n",
    "print(\"\\nTuple using List: \")\n",
    "print(tuple(list1))\n",
    " "
   ]
  },
  {
   "cell_type": "code",
   "execution_count": 14,
   "metadata": {},
   "outputs": [
    {
     "name": "stdout",
     "output_type": "stream",
     "text": [
      "\n",
      "Tuple with the use of function: \n",
      "('A', 'r', 'c', 'h', 'i', 's', 'm', 'a', 'n')\n"
     ]
    }
   ],
   "source": [
    "# Creating a Tuple with the\n",
    "# use of built-in function\n",
    "Tuple1 = tuple('Archisman')\n",
    "print(\"\\nTuple with the use of function: \")\n",
    "print(Tuple1)"
   ]
  },
  {
   "cell_type": "code",
   "execution_count": 16,
   "metadata": {},
   "outputs": [
    {
     "name": "stdout",
     "output_type": "stream",
     "text": [
      "\n",
      "Tuple with nested tuples: \n",
      "((0, 1, 2, 3, 3, 4, 6), ('python', 'Abcd'))\n"
     ]
    }
   ],
   "source": [
    "# Creating a Tuple with nested tuples\n",
    "Tuple1 = (0, 1, 2, 3,3,4,6)\n",
    "Tuple2 = ('python', 'Abcd')\n",
    "Tuple3 = (Tuple1, Tuple2)\n",
    "print(\"\\nTuple with nested tuples: \")\n",
    "print(Tuple3)"
   ]
  },
  {
   "cell_type": "code",
   "execution_count": 18,
   "metadata": {},
   "outputs": [
    {
     "data": {
      "text/plain": [
       "2"
      ]
     },
     "execution_count": 18,
     "metadata": {},
     "output_type": "execute_result"
    }
   ],
   "source": [
    "## Inbuilt function\n",
    "Tuple1.count(3)"
   ]
  },
  {
   "cell_type": "code",
   "execution_count": 19,
   "metadata": {},
   "outputs": [
    {
     "data": {
      "text/plain": [
       "3"
      ]
     },
     "execution_count": 19,
     "metadata": {},
     "output_type": "execute_result"
    }
   ],
   "source": [
    "Tuple1.index(3) # index() returns the index of first occurrence."
   ]
  },
  {
   "cell_type": "code",
   "execution_count": 20,
   "metadata": {},
   "outputs": [
    {
     "name": "stdout",
     "output_type": "stream",
     "text": [
      "First element of tuple\n",
      "0\n"
     ]
    }
   ],
   "source": [
    "print(\"First element of tuple\")\n",
    "print(Tuple1[0])"
   ]
  },
  {
   "cell_type": "code",
   "execution_count": 22,
   "metadata": {},
   "outputs": [
    {
     "name": "stdout",
     "output_type": "stream",
     "text": [
      "\n",
      "Last element of tuple\n",
      "6\n"
     ]
    }
   ],
   "source": [
    "print(\"\\nLast element of tuple\")\n",
    "print(Tuple1[-1])"
   ]
  },
  {
   "cell_type": "markdown",
   "metadata": {},
   "source": [
    "## Boolean\n",
    "Data type with one of the two built-in values, True or False. Boolean objects that are equal to True are truthy (true), and those equal to False are falsy (false). But non-Boolean objects can be evaluated in Boolean context as well and determined to be true or false. It is denoted by the class bool."
   ]
  },
  {
   "cell_type": "code",
   "execution_count": 23,
   "metadata": {},
   "outputs": [
    {
     "name": "stdout",
     "output_type": "stream",
     "text": [
      "<class 'bool'>\n",
      "<class 'bool'>\n"
     ]
    }
   ],
   "source": [
    "z=True ## it is boolean it has only two value true or false\n",
    "y=False\n",
    "print(type(z))\n",
    "print(type(y))"
   ]
  },
  {
   "cell_type": "markdown",
   "metadata": {},
   "source": [
    "## Sets\n",
    "In Python, Set is an unordered collection of data type that is iterable, mutable and has no duplicate elements. The order of elements in a set is undefined though it may consist of various elements. "
   ]
  },
  {
   "cell_type": "code",
   "execution_count": 24,
   "metadata": {},
   "outputs": [
    {
     "name": "stdout",
     "output_type": "stream",
     "text": [
      "Initial blank Set: \n",
      "set()\n"
     ]
    }
   ],
   "source": [
    "# Python program to demonstrate Creation of Set in Python\n",
    "\n",
    "set1 = set()\n",
    "print(\"Initial blank Set: \")\n",
    "print(set1)"
   ]
  },
  {
   "cell_type": "code",
   "execution_count": 25,
   "metadata": {},
   "outputs": [
    {
     "name": "stdout",
     "output_type": "stream",
     "text": [
      "\n",
      "Set with the use of String: \n",
      "{'W', 'e', 'l', 'o', 'm', 'c'}\n"
     ]
    }
   ],
   "source": [
    "# Creating a Set with the use of a String\n",
    "set1 = set(\"Welcome\")\n",
    "print(\"\\nSet with the use of String: \")\n",
    "print(set1)"
   ]
  },
  {
   "cell_type": "code",
   "execution_count": 26,
   "metadata": {},
   "outputs": [
    {
     "name": "stdout",
     "output_type": "stream",
     "text": [
      "\n",
      "Set with the use of List: \n",
      "{'Archisman', 'Saha'}\n"
     ]
    }
   ],
   "source": [
    "# Creating a Set with the use of a List\n",
    "set1 = set([\"Archisman\", \"Saha\"])\n",
    "print(\"\\nSet with the use of List: \")\n",
    "print(set1)"
   ]
  },
  {
   "cell_type": "code",
   "execution_count": 28,
   "metadata": {},
   "outputs": [
    {
     "name": "stdout",
     "output_type": "stream",
     "text": [
      "\n",
      "Set with the use of Mixed Values\n",
      "{1, 2, 4, 6, 'Geeks', 'For'}\n"
     ]
    }
   ],
   "source": [
    " \n",
    "# Creating a Set with a mixed type of values\n",
    "# (Having numbers and strings)\n",
    "set1 = set([1, 2, 'Geeks', 4, 'For', 6])\n",
    "print(\"\\nSet with the use of Mixed Values\")\n",
    "print(set1)"
   ]
  },
  {
   "cell_type": "code",
   "execution_count": 32,
   "metadata": {},
   "outputs": [
    {
     "name": "stdout",
     "output_type": "stream",
     "text": [
      "\n",
      "Set after Addition of elements using Update: \n",
      "{4, 5, 10, 11, (6, 7)}\n"
     ]
    }
   ],
   "source": [
    "# Addition of elements to the Set using Update function\n",
    "set1 = set([ 4, 5, (6, 7)])\n",
    "set1.update([10, 11]) # For addition of two or more elements Update() method is used. The update() method accepts lists, strings, tuples as well as other sets as its arguments. In all of these cases, duplicate elements are avoided.\n",
    "print(\"\\nSet after Addition of elements using Update: \")\n",
    "print(set1)"
   ]
  },
  {
   "cell_type": "code",
   "execution_count": 34,
   "metadata": {},
   "outputs": [],
   "source": [
    "set1 = set([1, 2, 3, 4, 5, 6,\n",
    "            7, 8, 9, 10, 11, 12])"
   ]
  },
  {
   "cell_type": "code",
   "execution_count": 35,
   "metadata": {},
   "outputs": [
    {
     "name": "stdout",
     "output_type": "stream",
     "text": [
      "\n",
      "Set after Removal of two elements: \n",
      "{1, 2, 3, 4, 7, 8, 9, 10, 11, 12}\n"
     ]
    }
   ],
   "source": [
    "set1.remove(5) # .remove() removes the element\n",
    "set1.remove(6)\n",
    "print(\"\\nSet after Removal of two elements: \")\n",
    "print(set1)"
   ]
  },
  {
   "cell_type": "markdown",
   "metadata": {},
   "source": [
    "Elements can be removed from the Set by using built-in remove() function but a KeyError arises if element doesn’t exist in the set. To remove elements from a set without KeyError, use discard(), if the element doesn’t exist in the set, it remains unchanged."
   ]
  },
  {
   "cell_type": "code",
   "execution_count": 36,
   "metadata": {},
   "outputs": [
    {
     "name": "stdout",
     "output_type": "stream",
     "text": [
      "\n",
      "Set after Discarding two elements: \n",
      "{1, 2, 3, 4, 7, 10, 11, 12}\n"
     ]
    }
   ],
   "source": [
    "# Removing elements from Set using Discard() method\n",
    "set1.discard(8)\n",
    "set1.discard(9)\n",
    "print(\"\\nSet after Discarding two elements: \")\n",
    "print(set1)"
   ]
  },
  {
   "cell_type": "code",
   "execution_count": 37,
   "metadata": {},
   "outputs": [
    {
     "name": "stdout",
     "output_type": "stream",
     "text": [
      "set()\n"
     ]
    }
   ],
   "source": [
    "# Removing all the elements from Set using clear() method\n",
    "set1.clear()\n",
    "print(set1)"
   ]
  },
  {
   "cell_type": "code",
   "execution_count": 29,
   "metadata": {},
   "outputs": [],
   "source": [
    "set_var={\"Avengers\",\"IronMan\",'Hitman'}"
   ]
  },
  {
   "cell_type": "code",
   "execution_count": 30,
   "metadata": {},
   "outputs": [
    {
     "name": "stdout",
     "output_type": "stream",
     "text": [
      "{'Hulk', 'IronMan', 'Hitman', 'Avengers'}\n"
     ]
    }
   ],
   "source": [
    "set_var.add(\"Hulk\") #.add() add elemnts add the begining\n",
    "print(set_var)"
   ]
  },
  {
   "cell_type": "code",
   "execution_count": 43,
   "metadata": {},
   "outputs": [],
   "source": [
    "set1={\"Avengers\",\"IronMan\",'Hitman'}\n",
    "set2={\"Avengers\",\"IronMan\",'Hitman','Hulk2'}"
   ]
  },
  {
   "cell_type": "code",
   "execution_count": 40,
   "metadata": {},
   "outputs": [
    {
     "data": {
      "text/plain": [
       "{'Avengers', 'Hitman', 'IronMan'}"
      ]
     },
     "execution_count": 40,
     "metadata": {},
     "output_type": "execute_result"
    }
   ],
   "source": [
    "set2.intersection_update(set1) #Updates the set with the intersection of itself and another\n",
    "set2"
   ]
  },
  {
   "cell_type": "code",
   "execution_count": 42,
   "metadata": {},
   "outputs": [
    {
     "data": {
      "text/plain": [
       "{'Avengers', 'Hitman', 'IronMan'}"
      ]
     },
     "execution_count": 42,
     "metadata": {},
     "output_type": "execute_result"
    }
   ],
   "source": [
    "set2.difference(set1)\n",
    "set2"
   ]
  },
  {
   "cell_type": "code",
   "execution_count": 44,
   "metadata": {},
   "outputs": [
    {
     "name": "stdout",
     "output_type": "stream",
     "text": [
      "{10, 20}\n"
     ]
    }
   ],
   "source": [
    "# Python code to get the difference between two sets using difference_update() between set A and set B\n",
    " \n",
    "A = {10, 20, 30, 40, 80}\n",
    "B = {100, 30, 80, 40, 60}\n",
    "# Modifies A and returns None\n",
    "A.difference_update(B)\n",
    " \n",
    "# Prints the modified set\n",
    "print (A)"
   ]
  },
  {
   "cell_type": "code",
   "execution_count": 45,
   "metadata": {},
   "outputs": [
    {
     "name": "stdout",
     "output_type": "stream",
     "text": [
      "{10, 20}\n",
      "{100, 60}\n"
     ]
    }
   ],
   "source": [
    "# Python code to get the difference between two sets using difference() between set A and set B\n",
    "A = {10, 20, 30, 40, 80}\n",
    "B = {100, 30, 80, 40, 60}\n",
    "print (A.difference(B))\n",
    "print (B.difference(A))"
   ]
  },
  {
   "cell_type": "code",
   "execution_count": 46,
   "metadata": {},
   "outputs": [
    {
     "name": "stdout",
     "output_type": "stream",
     "text": [
      "set1 intersection set2 :  {4, 6}\n",
      "set1 intersection set2 intersection set3 : {4, 6}\n"
     ]
    }
   ],
   "source": [
    "# intersection of sets\n",
    "set1 = {2, 4, 5, 6} \n",
    "set2 = {4, 6, 7, 8} \n",
    "set3 = {4,6,8}\n",
    "  \n",
    "print(\"set1 intersection set2 : \", set1.intersection(set2))\n",
    "  \n",
    "print(\"set1 intersection set2 intersection set3 :\", set1.intersection(set2,set3))"
   ]
  },
  {
   "cell_type": "code",
   "execution_count": 47,
   "metadata": {},
   "outputs": [
    {
     "name": "stdout",
     "output_type": "stream",
     "text": [
      "set1 U set2 :  {2, 4, 5, 6, 7, 8}\n",
      "set1 U set2 U set3 : {2, 4, 5, 6, 7, 8, 9, 10}\n"
     ]
    }
   ],
   "source": [
    "# Union of sets  \n",
    "set1 = {2, 4, 5, 6} \n",
    "set2 = {4, 6, 7, 8} \n",
    "set3 = {7, 8, 9, 10}\n",
    "  \n",
    "# union of two sets\n",
    "print(\"set1 U set2 : \", set1.union(set2))\n",
    "  \n",
    "# union of three sets\n",
    "print(\"set1 U set2 U set3 :\", set1.union(set2, set3))"
   ]
  },
  {
   "cell_type": "code",
   "execution_count": 48,
   "metadata": {},
   "outputs": [
    {
     "name": "stdout",
     "output_type": "stream",
     "text": [
      "set1 and set2 are disjoint? True\n",
      "set1 and set3 are disjoint? False\n"
     ]
    }
   ],
   "source": [
    "# checking of disjoint set\n",
    "#Two sets are said to be disjoint when their intersection is null\n",
    "set1 = {2, 4, 5, 6} \n",
    "set2 = {7, 8, 9, 10}\n",
    "set3 = {1, 2}\n",
    "print(\"set1 and set2 are disjoint?\", set1.isdisjoint(set2))\n",
    "  \n",
    "print(\"set1 and set3 are disjoint?\", set1.isdisjoint(set3))"
   ]
  },
  {
   "cell_type": "code",
   "execution_count": 49,
   "metadata": {},
   "outputs": [
    {
     "name": "stdout",
     "output_type": "stream",
     "text": [
      "True\n",
      "False\n"
     ]
    }
   ],
   "source": [
    "# checking of subset\n",
    "\n",
    "\n",
    "# issubset().\n",
    "  \n",
    "A = {4, 1, 3, 5}\n",
    "B = {6, 0, 4, 1, 5, 0, 3, 5}\n",
    "  \n",
    "# Returns True\n",
    "print(A.issubset(B))\n",
    "  \n",
    "# Returns False\n",
    "# B is not subset of A\n",
    "print(B.issubset(A))"
   ]
  },
  {
   "cell_type": "code",
   "execution_count": 50,
   "metadata": {},
   "outputs": [
    {
     "name": "stdout",
     "output_type": "stream",
     "text": [
      "A.issuperset(B) :  False\n",
      "B.issuperset(A) :  True\n"
     ]
    }
   ],
   "source": [
    "# checking of superset (The issuperset() method returns True if all elements of a set A occupies set B which is passed as an argument and returns false if all elements of B not present in A.)\n",
    "# issuperset().\n",
    "  \n",
    "A = {4, 1, 3, 5}\n",
    "B = {6, 0, 4, 1, 5, 0, 3, 5}\n",
    "  \n",
    "print(\"A.issuperset(B) : \", A.issuperset(B))\n",
    "  \n",
    "# B is superset of A\n",
    "print(\"B.issuperset(A) : \", B.issuperset(A))"
   ]
  },
  {
   "cell_type": "code",
   "execution_count": 51,
   "metadata": {},
   "outputs": [
    {
     "name": "stdout",
     "output_type": "stream",
     "text": [
      "{'p', 'e', 'w', 'r', 'o'}\n",
      "{'e', 'w', 'p', 'r', 'o'}\n",
      "{'n', 'p', 'a', 'w'}\n",
      "{'e', 'n', 'a', 'r', 'o'}\n"
     ]
    }
   ],
   "source": [
    "# Symmetric Difference\n",
    "#This in-built function of Python Set helps us to get the symmetric difference between two sets, which is equal to the elements present in either of the two sets, but not common to both the sets.\n",
    "A = {'p', 'a', 'w', 'a', 'n'}\n",
    "B = {'r', 'a', 'o', 'n', 'e'}\n",
    "C = {}\n",
    "  \n",
    "print(A.symmetric_difference(B))\n",
    "print(B.symmetric_difference(A))\n",
    "  \n",
    "print(A.symmetric_difference(C))\n",
    "print(B.symmetric_difference(C))"
   ]
  },
  {
   "cell_type": "markdown",
   "metadata": {},
   "source": [
    "## Dictionary\n",
    "A dictionary is a collection which is unordered, changeable and indexed. In Python dictionaries are written with curly brackets, and they have keys and values."
   ]
  },
  {
   "cell_type": "code",
   "execution_count": 54,
   "metadata": {},
   "outputs": [
    {
     "name": "stdout",
     "output_type": "stream",
     "text": [
      "{}\n"
     ]
    }
   ],
   "source": [
    "name_write={} ## Empty Dictionary\n",
    "print(name_write)\n"
   ]
  },
  {
   "cell_type": "code",
   "execution_count": 53,
   "metadata": {},
   "outputs": [
    {
     "name": "stdout",
     "output_type": "stream",
     "text": [
      "{'harry': 'lets go', 'han': 'bye'}\n"
     ]
    }
   ],
   "source": [
    "# Adding items to dictionary\n",
    "name_write['harry']='lets go' # 'harry' is called Key and 'lets go' is called value\n",
    "name_write['han']='bye'    \n",
    "print(name_write)"
   ]
  },
  {
   "cell_type": "code",
   "execution_count": 55,
   "metadata": {},
   "outputs": [
    {
     "name": "stdout",
     "output_type": "stream",
     "text": [
      "{'this': 'this is statement', 'new_line': 'making dictionary'}\n"
     ]
    }
   ],
   "source": [
    "name_write={\n",
    "    'this': 'this is statement',          ## making dictionary\n",
    "    'new_line':'making dictionary'\n",
    "}\n",
    "print(name_write)"
   ]
  },
  {
   "cell_type": "code",
   "execution_count": 56,
   "metadata": {},
   "outputs": [
    {
     "name": "stdout",
     "output_type": "stream",
     "text": [
      "this\n",
      "this is statement\n",
      "new_line\n",
      "making dictionary\n"
     ]
    }
   ],
   "source": [
    "for elemnt in name_write:\n",
    "    print(elemnt)                ## these are called key here 'this','harry','new_line','han' keys\n",
    "    print(name_write[elemnt])      ## accesing elemnts here you have to pass  key name to access "
   ]
  },
  {
   "cell_type": "code",
   "execution_count": 58,
   "metadata": {},
   "outputs": [],
   "source": [
    "# Nested Dictionary\n",
    "\n",
    "car1_model={'Mercedes':1960}\n",
    "car2_model={'Audi':1970}\n",
    "car3_model={'Ambassador':1980}\n",
    "\n",
    "car_type={'car1':car1_model,'car2':car2_model,'car3':car3_model}"
   ]
  },
  {
   "cell_type": "code",
   "execution_count": 59,
   "metadata": {},
   "outputs": [
    {
     "name": "stdout",
     "output_type": "stream",
     "text": [
      "{'car1': {'Mercedes': 1960}, 'car2': {'Audi': 1970}, 'car3': {'Ambassador': 1980}}\n"
     ]
    }
   ],
   "source": [
    "print(car_type)"
   ]
  },
  {
   "cell_type": "code",
   "execution_count": 61,
   "metadata": {},
   "outputs": [
    {
     "name": "stdout",
     "output_type": "stream",
     "text": [
      "{'Mercedes': 1960}\n"
     ]
    }
   ],
   "source": [
    "## Accessing the items in the dictionary\n",
    "\n",
    "print(car_type['car1'])"
   ]
  },
  {
   "cell_type": "code",
   "execution_count": 62,
   "metadata": {},
   "outputs": [
    {
     "name": "stdout",
     "output_type": "stream",
     "text": [
      "1960\n"
     ]
    }
   ],
   "source": [
    "print(car_type['car1']['Mercedes'])"
   ]
  },
  {
   "cell_type": "markdown",
   "metadata": {},
   "source": [
    "## conditional statement\n",
    "if condition:\n",
    "    statements\n",
    "elif condition:\n",
    "    statement\n",
    "else:\n",
    "    statement   \n",
    " \n"
   ]
  },
  {
   "cell_type": "markdown",
   "metadata": {},
   "source": [
    "## conditional  operators\n",
    "`\n",
    "> greater than\n",
    "< less than\n",
    ">= greater equalto\n",
    "<= less equalto\n",
    "== equality\n",
    " `"
   ]
  },
  {
   "cell_type": "markdown",
   "metadata": {},
   "source": [
    "## Logical Operators\n",
    "`\n",
    " and\n",
    " or\n",
    " not \n",
    " `\n"
   ]
  },
  {
   "cell_type": "markdown",
   "metadata": {},
   "source": [
    "## loop\n",
    "`\n",
    "for number in range(1,11,3): ##range(start,end,step) BY deafulst step is =1 similar to i++; and in range end not inclusive\n",
    "    print(number)\n",
    "`"
   ]
  },
  {
   "cell_type": "markdown",
   "metadata": {},
   "source": [
    "## Functions\n",
    "`\n",
    "def my_function(): ## defifining function\n",
    "    print(\"Hello\")\n",
    "\n",
    "my_function() ## calling function\n",
    "`"
   ]
  },
  {
   "cell_type": "code",
   "execution_count": 67,
   "metadata": {},
   "outputs": [
    {
     "name": "stdout",
     "output_type": "stream",
     "text": [
      "what's your first name? archisman\n",
      "whats your last name? saha\n",
      "Result:Archisman Saha\n"
     ]
    }
   ],
   "source": [
    "def format_name(f_name,l_name):\n",
    "    if f_name==\"\"or l_name==\"\":\n",
    "        return \"You didn't provide valid inputs\"\n",
    "    formated_f_name=f_name.title()\n",
    "    formated_l_name=l_name.title()\n",
    "    return f\"Result:{formated_f_name} {formated_l_name}\"\n",
    "\n",
    "print(format_name(input(\"what's your first name? \"),input(\"whats your last name? \")))"
   ]
  },
  {
   "cell_type": "code",
   "execution_count": 68,
   "metadata": {},
   "outputs": [
    {
     "name": "stdout",
     "output_type": "stream",
     "text": [
      "Archisman\n"
     ]
    }
   ],
   "source": [
    "name=\"ArcHISmAn\"\n",
    "print(name.title()) ## makes it title cast word it would be Archisman"
   ]
  },
  {
   "cell_type": "code",
   "execution_count": null,
   "metadata": {},
   "outputs": [],
   "source": []
  }
 ],
 "metadata": {
  "kernelspec": {
   "display_name": "Python 3",
   "language": "python",
   "name": "python3"
  },
  "language_info": {
   "codemirror_mode": {
    "name": "ipython",
    "version": 3
   },
   "file_extension": ".py",
   "mimetype": "text/x-python",
   "name": "python",
   "nbconvert_exporter": "python",
   "pygments_lexer": "ipython3",
   "version": "3.8.5"
  }
 },
 "nbformat": 4,
 "nbformat_minor": 4
}
